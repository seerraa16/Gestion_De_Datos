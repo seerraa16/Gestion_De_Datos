{
 "cells": [
  {
   "cell_type": "code",
   "execution_count": 2,
   "metadata": {},
   "outputs": [
    {
     "name": "stdout",
     "output_type": "stream",
     "text": [
      "Collecting pyodbc\n",
      "  Downloading pyodbc-5.2.0-cp311-cp311-win_amd64.whl.metadata (2.8 kB)\n",
      "Downloading pyodbc-5.2.0-cp311-cp311-win_amd64.whl (68 kB)\n",
      "   ---------------------------------------- 0.0/68.9 kB ? eta -:--:--\n",
      "   ----------- ---------------------------- 20.5/68.9 kB 330.3 kB/s eta 0:00:01\n",
      "   ----------------------------------- ---- 61.4/68.9 kB 825.8 kB/s eta 0:00:01\n",
      "   ---------------------------------------- 68.9/68.9 kB 630.4 kB/s eta 0:00:00\n",
      "Installing collected packages: pyodbc\n",
      "Successfully installed pyodbc-5.2.0\n"
     ]
    },
    {
     "name": "stderr",
     "output_type": "stream",
     "text": [
      "\n",
      "[notice] A new release of pip is available: 24.0 -> 25.0.1\n",
      "[notice] To update, run: C:\\Users\\aserr\\AppData\\Local\\Microsoft\\WindowsApps\\PythonSoftwareFoundation.Python.3.11_qbz5n2kfra8p0\\python.exe -m pip install --upgrade pip\n"
     ]
    }
   ],
   "source": [
    "! pip install pyodbc"
   ]
  },
  {
   "cell_type": "code",
   "execution_count": 2,
   "metadata": {},
   "outputs": [
    {
     "ename": "ModuleNotFoundError",
     "evalue": "No module named 'pandas'",
     "output_type": "error",
     "traceback": [
      "\u001b[1;31m---------------------------------------------------------------------------\u001b[0m",
      "\u001b[1;31mModuleNotFoundError\u001b[0m                       Traceback (most recent call last)",
      "Cell \u001b[1;32mIn[2], line 2\u001b[0m\n\u001b[0;32m      1\u001b[0m \u001b[38;5;28;01mimport\u001b[39;00m\u001b[38;5;250m \u001b[39m\u001b[38;5;21;01mpyodbc\u001b[39;00m\n\u001b[1;32m----> 2\u001b[0m \u001b[38;5;28;01mimport\u001b[39;00m\u001b[38;5;250m \u001b[39m\u001b[38;5;21;01mpandas\u001b[39;00m\u001b[38;5;250m \u001b[39m\u001b[38;5;28;01mas\u001b[39;00m\u001b[38;5;250m \u001b[39m\u001b[38;5;21;01mpd\u001b[39;00m\n\u001b[0;32m      3\u001b[0m \u001b[38;5;28;01mimport\u001b[39;00m\u001b[38;5;250m \u001b[39m\u001b[38;5;21;01mnumpy\u001b[39;00m\u001b[38;5;250m \u001b[39m\u001b[38;5;28;01mas\u001b[39;00m\u001b[38;5;250m \u001b[39m\u001b[38;5;21;01mnp\u001b[39;00m\n\u001b[0;32m      5\u001b[0m \u001b[38;5;66;03m#  Conexión a **Azure SQL**\u001b[39;00m\n",
      "\u001b[1;31mModuleNotFoundError\u001b[0m: No module named 'pandas'"
     ]
    }
   ],
   "source": [
    "import pyodbc\n",
    "import pandas as pd\n",
    "import numpy as np\n",
    "\n",
    "#  Conexión a **Azure SQL**\n",
    "AZURE_SERVER = 'uaxmathfis.database.windows.net'\n",
    "AZURE_DATABASE = 'usecases'\n",
    "AZURE_DRIVER = '{ODBC Driver 18 for SQL Server}'\n",
    "\n",
    "azure_conn_str = f\"DRIVER={AZURE_DRIVER};SERVER={AZURE_SERVER};DATABASE={AZURE_DATABASE};Authentication=ActiveDirectoryInteractive\"\n",
    "\n",
    "#  Conexión a **SQL Server LOCAL**\n",
    "LOCAL_SERVER = 'localhost'\n",
    "LOCAL_DATABASE = 'dwh_case1'  \n",
    "LOCAL_DRIVER = '{ODBC Driver 18 for SQL Server}'\n",
    "\n",
    "local_conn_str = f\"DRIVER={LOCAL_DRIVER};SERVER={LOCAL_SERVER};DATABASE={LOCAL_DATABASE};Trusted_Connection=yes;TrustServerCertificate=yes\"\n",
    "\n",
    "#  Consulta SQL en Azure SQL\n",
    "SQL_QUERY = \"\"\"\n",
    "SELECT\n",
    "\"\"\"\n",
    "\n",
    "# 🔹 Nombre de la tabla en SQL Server Local\n",
    "NEW_TABLE_NAME = \"DATAEX.FACT_SALES\"\n",
    "\n",
    "try:\n",
    "    #  Conectar a Azure SQL\n",
    "    print(f\"Conectando a Azure SQL...\")\n",
    "    conn_azure = pyodbc.connect(azure_conn_str)\n",
    "    \n",
    "    # 🔹 Ejecutar la consulta en Azure SQL\n",
    "    print(f\"Ejecutando consulta en Azure SQL...\")\n",
    "    df = pd.read_sql(SQL_QUERY, conn_azure)\n",
    "\n",
    "    if df.empty:\n",
    "        print(f\" La consulta no devolvió resultados. No se creará la tabla en SQL Server Local.\")\n",
    "    else:\n",
    "        print(f\"   - Datos extraídos: {df.shape[0]} filas\")\n",
    "\n",
    "\n",
    "\n",
    "        #  Convertir NaN en columnas numéricas a 0\n",
    "        df = df.fillna(0)\n",
    "\n",
    "        #  Convertir valores numéricos problemáticos\n",
    "        for col in df.select_dtypes(include=['float64']).columns:\n",
    "            df[col] = df[col].astype(np.float32)  # Reducir precisión\n",
    "        \n",
    "        for col in df.select_dtypes(include=['int64']).columns:\n",
    "            df[col] = df[col].astype(np.int32)  # Evitar valores fuera de rango\n",
    "        \n",
    "        #  Conectar a SQL Server Local\n",
    "        print(f\"Conectando a SQL Server Local...\")\n",
    "        conn_local = pyodbc.connect(local_conn_str)\n",
    "        \n",
    "        with conn_local.cursor() as cursor:\n",
    "            # 🔹 Eliminar la tabla si ya existe\n",
    "            drop_table_sql = f\"DROP TABLE IF EXISTS {NEW_TABLE_NAME}\"\n",
    "            cursor.execute(drop_table_sql)\n",
    "            conn_local.commit()\n",
    "            print(f\"   - Tabla eliminada si existía.\")\n",
    "\n",
    "            # 🔹 Crear la tabla en SQL Server Local con tipos de datos ajustados\n",
    "            create_table_sql = f\"\"\"\n",
    "            CREATE TABLE {NEW_TABLE_NAME} (\n",
    "                {', '.join([\n",
    "                    f'[{col}] FLOAT' if df[col].dtype == np.float32 \n",
    "                    else f'[{col}] INT' if df[col].dtype == np.int32 \n",
    "                    else f'[{col}] NVARCHAR(255)' for col in df.columns\n",
    "                ])}\n",
    "            );\n",
    "            \"\"\"\n",
    "            cursor.execute(create_table_sql)\n",
    "            conn_local.commit()\n",
    "            print(f\" Tabla {NEW_TABLE_NAME} creada correctamente en SQL Server Local.\")\n",
    "\n",
    "            # Insertar los datos en SQL Server Local\n",
    "            placeholders = ', '.join(['?' for _ in df.columns])\n",
    "            insert_sql = f\"INSERT INTO {NEW_TABLE_NAME} VALUES ({placeholders})\"\n",
    "\n",
    "            cursor.fast_executemany = True\n",
    "            cursor.executemany(insert_sql, df.values.tolist())\n",
    "            conn_local.commit()\n",
    "\n",
    "            print(f\" {df.shape[0]} filas insertadas en {NEW_TABLE_NAME}.\")\n",
    "\n",
    "except Exception as e:\n",
    "    print(f\" Error: {e}\")\n",
    "\n",
    "finally:\n",
    "    if 'conn_azure' in locals():\n",
    "        conn_azure.close()\n",
    "    if 'conn_local' in locals():\n",
    "        conn_local.close()\n",
    "\n",
    "print(\"\\n ¡Proceso completado!\")\n"
   ]
  },
  {
   "cell_type": "code",
   "execution_count": null,
   "metadata": {},
   "outputs": [],
   "source": []
  }
 ],
 "metadata": {
  "kernelspec": {
   "display_name": "Python 3",
   "language": "python",
   "name": "python3"
  },
  "language_info": {
   "codemirror_mode": {
    "name": "ipython",
    "version": 3
   },
   "file_extension": ".py",
   "mimetype": "text/x-python",
   "name": "python",
   "nbconvert_exporter": "python",
   "pygments_lexer": "ipython3",
   "version": "3.11.9"
  }
 },
 "nbformat": 4,
 "nbformat_minor": 2
}
